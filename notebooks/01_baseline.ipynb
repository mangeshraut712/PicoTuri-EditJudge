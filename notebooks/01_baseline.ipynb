{
  "cells": [
    {
      "cell_type": "markdown",
      "metadata": {},
      "source": [
        "# PicoTuri-EditJudge Baseline\n",
        "\n",
        "End-to-end baseline: load Pico-Banana manifests, compute Turi Create image similarity, fuse with instruction TF-IDF, and train a logistic regression model."
      ]
    },
    {
      "cell_type": "markdown",
      "metadata": {},
      "source": [
        "> **Environment**: macOS, Python 3.8 (x86_64) under Rosetta if you are on Apple Silicon.\n",
        ">\n",
        "> **License reminder**: Pico-Banana-400K is CC BY-NC-ND 4.0. Do not redistribute media."
      ]
    },
    {
      "cell_type": "code",
      "execution_count": null,
      "metadata": {},
      "outputs": [],
      "source": [
        "import pandas as pd\n",
        "\n",
        "from pathlib import Path\n",
        "\n",
        "from src.features_image import compute_pair_similarity\n",
        "from src.train.baseline import train_baseline_model\n",
        "\n",
        "PAIRS_PATH = Path(\"data/manifests/sample_pairs.csv\")\n",
        "USE_TURI = False  # flip to True when turicreate is installed\n",
        "SEED = 13"
      ]
    },
    {
      "cell_type": "code",
      "execution_count": null,
      "metadata": {},
      "outputs": [],
      "source": [
        "pairs = pd.read_csv(PAIRS_PATH)\n",
        "pairs.head()"
      ]
    },
    {
      "cell_type": "code",
      "execution_count": null,
      "metadata": {},
      "outputs": [],
      "source": [
        "if USE_TURI:\n",
        "    image_pairs = list(zip(pairs[\"original_image\"], pairs[\"edited_image\"]))\n",
        "    similarities = compute_pair_similarity(image_pairs)\n",
        "    pairs[\"image_similarity\"] = similarities\n",
        "    pairs.to_csv(PAIRS_PATH.with_name(\"pairs_with_similarity.csv\"), index=False)\n",
        "    print(\"Computed Turi Create similarities and wrote updated manifest.\")\n",
        "else:\n",
        "    print(\"Skipping Turi Create similarity computation; using precomputed values.\")"
      ]
    },
    {
      "cell_type": "code",
      "execution_count": null,
      "metadata": {},
      "outputs": [],
      "source": [
        "artifacts, (X_test, y_test) = train_baseline_model(PAIRS_PATH, test_size=0.3, seed=SEED)\n",
        "metrics = artifacts.metrics\n",
        "metrics"
      ]
    },
    {
      "cell_type": "code",
      "execution_count": null,
      "metadata": {},
      "outputs": [],
      "source": [
        "display(pd.DataFrame(X_test))\n",
        "display(y_test.reset_index(drop=True))"
      ]
    },
    {
      "cell_type": "markdown",
      "metadata": {},
      "source": [
        "## Next steps\n",
        "\n",
        "- Replace the precomputed similarity column with live Turi Create features.\n",
        "- Export the image encoder to Core ML and integrate with the SwiftUI demo.\n",
        "- Track calibration experiments (Platt scaling, isotonic regression) for Milestone 0.5."
      ]
    }
  ],
  "metadata": {
    "kernelspec": {
      "display_name": "Python 3",
      "language": "python",
      "name": "python3"
    },
    "language_info": {
      "codemirror_mode": {
        "name": "ipython",
        "version": 3
      },
      "file_extension": ".py",
      "mimetype": "text/x-python",
      "name": "python",
      "nbconvert_exporter": "python",
      "pygments_lexer": "ipython3",
      "version": "3.8"
    }
  },
  "nbformat": 4,
  "nbformat_minor": 5
}